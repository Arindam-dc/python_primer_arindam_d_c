{
 "cells": [
  {
   "cell_type": "code",
   "execution_count": null,
   "id": "b832c816",
   "metadata": {},
   "outputs": [],
   "source": [
    "price = 50\n",
    "i = 1\n",
    "while i <= 6:\n",
    "    discount = price + i\n",
    "    print (\"Value is\" , discount)\n",
    "    i = i + 1\n"
   ]
  },
  {
   "cell_type": "code",
   "execution_count": null,
   "id": "5feaa72f",
   "metadata": {},
   "outputs": [],
   "source": [
    "cell=list(range(1,5))\n",
    "print (\"complete list is:  \", cell)\n",
    "for i in cell:\n",
    "    print (\"Outer  loop--\", i)\n",
    "    counter=1\n",
    "    while counter <= i:\n",
    "        print (\"Inner Loop.  value of counter is: \", counter)\n",
    "        counter = counter + 1 "
   ]
  },
  {
   "cell_type": "code",
   "execution_count": 19,
   "id": "19c6f488",
   "metadata": {},
   "outputs": [
    {
     "name": "stdout",
     "output_type": "stream",
     "text": [
      "1\n",
      "2\n",
      "3\n",
      "4\n",
      "5\n"
     ]
    }
   ],
   "source": [
    "x = [1, 2, 3, 4, 5]\n",
    "while x:\n",
    "  print(x.pop(0))"
   ]
  },
  {
   "cell_type": "code",
   "execution_count": 5,
   "id": "6781f947",
   "metadata": {},
   "outputs": [
    {
     "name": "stdout",
     "output_type": "stream",
     "text": [
      "Price list before discount was:  [400, 500, 700, 900, 1000]\n",
      "new discounted price list:  [380.0, 475.0, 665.0, 855.0, 950.0]\n",
      "List Comprehension way : [380.0, 475.0, 665.0, 855.0, 950.0]\n"
     ]
    }
   ],
   "source": [
    "#fill a \"list\" in each iteration of a Loop\n",
    "price_list=[400, 500, 700, 900, 1000]\n",
    "dicounted_price=[]\n",
    "for x in price_list:\n",
    "    cal= x - ( x * (5 /100))\n",
    "    dicounted_price.append(cal)\n",
    "print (\"Price list before discount was: \", price_list)\n",
    "print (\"new discounted price list: \" ,(dicounted_price))\n",
    "\n",
    "### An equivalent way of doing the same operation in  \"List Comprehension\" way. \n",
    "new_discounted_price=[x - ( x * (5 /100)) for x in price_list ]\n",
    "print (\"List Comprehension way :\", new_discounted_price)"
   ]
  }
 ],
 "metadata": {
  "kernelspec": {
   "display_name": "Python 3",
   "language": "python",
   "name": "python3"
  },
  "language_info": {
   "codemirror_mode": {
    "name": "ipython",
    "version": 3
   },
   "file_extension": ".py",
   "mimetype": "text/x-python",
   "name": "python",
   "nbconvert_exporter": "python",
   "pygments_lexer": "ipython3",
   "version": "3.13.2"
  }
 },
 "nbformat": 4,
 "nbformat_minor": 5
}
