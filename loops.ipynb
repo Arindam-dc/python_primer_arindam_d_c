{
  "cells": [
    {
      "cell_type": "code",
      "execution_count": null,
      "id": "b832c816",
      "metadata": {
        "id": "b832c816"
      },
      "outputs": [],
      "source": [
        "price = 50\n",
        "i = 1\n",
        "while i <= 6:\n",
        "    discount = price + i\n",
        "    print (\"Value is\" , discount)\n",
        "    i = i + 1\n"
      ]
    },
    {
      "cell_type": "code",
      "execution_count": null,
      "id": "5feaa72f",
      "metadata": {
        "id": "5feaa72f"
      },
      "outputs": [],
      "source": [
        "cell=list(range(1,5))\n",
        "print (\"complete list is:  \", cell)\n",
        "for i in cell:\n",
        "    print (\" \") # Just to Create visibility\n",
        "    print (\"In Outer loop we have : \", i)\n",
        "    counter=1\n",
        "    while counter <= i:\n",
        "        print (\"Inner Loop.  value of counter is: \", counter)\n",
        "        counter = counter + 1"
      ]
    },
    {
      "cell_type": "code",
      "execution_count": null,
      "id": "19c6f488",
      "metadata": {
        "id": "19c6f488"
      },
      "outputs": [],
      "source": [
        "x = [1, 2, 3, 4, 5]\n",
        "while x:\n",
        "  print(x.pop(0))"
      ]
    },
    {
      "cell_type": "code",
      "execution_count": null,
      "id": "6781f947",
      "metadata": {
        "id": "6781f947"
      },
      "outputs": [],
      "source": [
        "#fill a \"list\" in each iteration of a Loop\n",
        "price_list=[400, 500, 700, 900, 1000]\n",
        "dicounted_price=[]\n",
        "for x in price_list:\n",
        "    cal= x - ( x * (5 /100))\n",
        "    dicounted_price.append(cal)\n",
        "print (\"Price list before discount was: \", price_list)\n",
        "print (\"new discounted price list: \" ,(dicounted_price))\n",
        "\n",
        "### An equivalent way of doing the same operation in  \"List Comprehension\" way.\n",
        "new_discounted_price=[x - ( x * (5 /100)) for x in price_list ]\n",
        "print (\"List Comprehension way :\", new_discounted_price)"
      ]
    }
  ],
  "metadata": {
    "kernelspec": {
      "display_name": "Python 3",
      "language": "python",
      "name": "python3"
    },
    "language_info": {
      "codemirror_mode": {
        "name": "ipython",
        "version": 3
      },
      "file_extension": ".py",
      "mimetype": "text/x-python",
      "name": "python",
      "nbconvert_exporter": "python",
      "pygments_lexer": "ipython3",
      "version": "3.13.2"
    },
    "colab": {
      "provenance": []
    }
  },
  "nbformat": 4,
  "nbformat_minor": 5
}